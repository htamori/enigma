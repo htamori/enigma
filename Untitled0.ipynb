{
  "nbformat": 4,
  "nbformat_minor": 0,
  "metadata": {
    "colab": {
      "name": "Untitled0.ipynb",
      "version": "0.3.2",
      "provenance": [],
      "collapsed_sections": [],
      "toc_visible": true,
      "include_colab_link": true
    },
    "kernelspec": {
      "name": "python3",
      "display_name": "Python 3"
    },
    "accelerator": "GPU"
  },
  "cells": [
    {
      "cell_type": "markdown",
      "metadata": {
        "id": "view-in-github",
        "colab_type": "text"
      },
      "source": [
        "[View in Colaboratory](https://colab.research.google.com/github/htamori/enigma/blob/master/Untitled0.ipynb)"
      ]
    },
    {
      "metadata": {
        "id": "93iRVDOkzHty",
        "colab_type": "code",
        "colab": {
          "base_uri": "https://localhost:8080/",
          "height": 178
        },
        "outputId": "e46cbf54-5e22-49c1-d04a-f54f72b7524f"
      },
      "cell_type": "code",
      "source": [
        "# google-drive-ocamlfuseのインストール\n",
        "# https://github.com/astrada/google-drive-ocamlfuse\n",
        "!apt-get install -y -qq software-properties-common python-software-properties module-init-tools\n",
        "!add-apt-repository -y ppa:alessandro-strada/ppa 2>&1 > /dev/null\n",
        "!apt-get update -qq 2>&1 > /dev/null\n",
        "!apt-get -y install -qq google-drive-ocamlfuse fuse\n",
        "\n",
        "# Colab用のAuth token作成\n",
        "from google.colab import auth\n",
        "auth.authenticate_user()\n",
        "\n",
        "# Drive FUSE library用のcredential生成\n",
        "from oauth2client.client import GoogleCredentials\n",
        "creds = GoogleCredentials.get_application_default()\n",
        "import getpass\n",
        "!google-drive-ocamlfuse -headless -id={creds.client_id} -secret={creds.client_secret} < /dev/null 2>&1 | grep URL\n",
        "vcode = getpass.getpass()\n",
        "!echo {vcode} | google-drive-ocamlfuse -headless -id={creds.client_id} -secret={creds.client_secret}\n",
        "\n",
        "# drive/ を作り、そこにGoogle Driveをマウントする\n",
        "!mkdir -p drive\n",
        "!google-drive-ocamlfuse drive"
      ],
      "execution_count": 2,
      "outputs": [
        {
          "output_type": "stream",
          "text": [
            "Please, open the following URL in a web browser: https://accounts.google.com/o/oauth2/auth?client_id=32555940559.apps.googleusercontent.com&redirect_uri=urn%3Aietf%3Awg%3Aoauth%3A2.0%3Aoob&scope=https%3A%2F%2Fwww.googleapis.com%2Fauth%2Fdrive&response_type=code&access_type=offline&approval_prompt=force\r\n",
            "··········\n",
            "Please, open the following URL in a web browser: https://accounts.google.com/o/oauth2/auth?client_id=32555940559.apps.googleusercontent.com&redirect_uri=urn%3Aietf%3Awg%3Aoauth%3A2.0%3Aoob&scope=https%3A%2F%2Fwww.googleapis.com%2Fauth%2Fdrive&response_type=code&access_type=offline&approval_prompt=force\n",
            "Please enter the verification code: Access token retrieved correctly.\n"
          ],
          "name": "stdout"
        }
      ]
    },
    {
      "metadata": {
        "id": "mXjUk906zlax",
        "colab_type": "code",
        "colab": {
          "base_uri": "https://localhost:8080/",
          "height": 3635
        },
        "outputId": "de61bb63-3e74-4e41-a46c-3df2570ac04f"
      },
      "cell_type": "code",
      "source": [
        "!ls drive/"
      ],
      "execution_count": 3,
      "outputs": [
        {
          "output_type": "stream",
          "text": [
            "20081214～20110114.ods\r\n",
            "20090518職務経歴（PMO）.odt\r\n",
            "201307_海外勤務者_私有車購入資金借用証.odt\r\n",
            "201405022549.pdf\r\n",
            "20160630.key\r\n",
            "20160630.key.pdf\r\n",
            "20学生国内旅費支援申請書－印.odt\r\n",
            "20論文校閲費支援申請書－印.odt\r\n",
            "23713428648.jpg\r\n",
            "23713455438.jpg\r\n",
            "23713463278.jpg\r\n",
            "23713528128.jpg\r\n",
            "23713529918.jpg\r\n",
            "23713560338 (3513cd9f).jpg\r\n",
            "23713560338.jpg\r\n",
            "23713811988.jpg\r\n",
            "23713879268.jpg\r\n",
            "5B091.tsv\r\n",
            "a4_flyer_eng.pdf\r\n",
            "about_MediaLab（静岡朝日テレビ研修会）_150820.pptx\r\n",
            "analize_first.ods\r\n",
            "analize_first_sentence.ods\r\n",
            "AnswerForReview_Doi20140104.pdf\r\n",
            "AnswerForReview_Doi20140104.pptx\r\n",
            "AnswerForReview_Doi20140108a.pptx\r\n",
            "(ART_2)Feedback for my app (Responses).ods\r\n",
            "(ART_2)Feedback for my app.zip\r\n",
            "(ART)Feedback for my app.zip\r\n",
            "asahi-corpus-ipadic.txt.bz2\r\n",
            "(Business_2)Feedback for my app.zip\r\n",
            "(BUSINESS)Feedback for my app.zip\r\n",
            "CES出張報告.odt\r\n",
            "chinatsumoney.ods\r\n",
            "Colab Notebooks\r\n",
            "Copy of Untitled.png\r\n",
            "CS224N\r\n",
            "CS251\r\n",
            "Customer Feedback.zip\r\n",
            "Customer Feedback.zip (8ebe193b)\r\n",
            "david_2.zip\r\n",
            "Dictation #3.odt\r\n",
            "Dictation Homework 1.odt\r\n",
            "Dictation Homework #2.odt\r\n",
            "EULA.odt\r\n",
            "Exploring Silicon Valley Week 1.odt\r\n",
            "Fall Enrollment Plan - Todd-PS 2016.odt\r\n",
            "Google Buzz\r\n",
            "Google ノートブックからインポート - マイ ノートブック.odt\r\n",
            "hantei(08SP11.161).odt\r\n",
            "hantei(08SP11.161).odt (d5a635d3)\r\n",
            "hitomi_paper.ods\r\n",
            "hitomi_paper.xlsx\r\n",
            "ICIVC2014_doi.doc\r\n",
            "IFTTT\r\n",
            "install一覧.ods\r\n",
            "(INTERNATIONAL)Feedback for my app.zip\r\n",
            " isida .ods\r\n",
            "July25.2015Uoichi.rev ordersheet.ods\r\n",
            "keyword.ods\r\n",
            "keyword.odt\r\n",
            "keyword.odt (f4962b71)\r\n",
            "keyword_sports-1.txt\r\n",
            "keyword_sports_tw03-1.txt\r\n",
            "keyword.txt\r\n",
            "kuruma.ods\r\n",
            "Language Learning Journal#2.odt\r\n",
            "Language Learning Journal.odt\r\n",
            "Letter.odt\r\n",
            "Letter.odt (ee9b9410)\r\n",
            "LINE_Android-backup-chat-147826129326.zip\r\n",
            "lossless実験値.ods\r\n",
            "matching.png\r\n",
            "model.ods\r\n",
            "monex 米国株.ods\r\n",
            "【MTGアジェンダ】20140307東北大学との共同研究打ち合わせ.docx\r\n",
            "【MTGアジェンダ】20140307東北大学との共同研究打ち合わせ.odt\r\n",
            "【MTGアジェンダ】20140307東北大学との共同研究打ち合わせ.odt (8c03b74f)\r\n",
            "【MTGアジェンダ】20140307東北大学との共同研究打ち合わせ.odt (e14e135c)\r\n",
            "#MTM Questions Hideaki Tamori.docx\r\n",
            "MTMQuestionsHideakiTamori.docx.docx\r\n",
            "#MTM Questions Hideaki Tamori.docx.odt\r\n",
            "(N1)Feedback for my app.zip\r\n",
            "(N2)Feedback for my app.zip\r\n",
            "(N3)Feedback for my app.zip\r\n",
            "(N4)Feedback for my app.zip\r\n",
            "(NATIONAL)Feedback for my app.zip\r\n",
            "(NEWYORK)Feedback for my app.zip\r\n",
            "レバレッジ.ods\r\n",
            " .odt\r\n",
            "(ORIGINAL)Feedback for my app.zip\r\n",
            "osaifu.ods\r\n",
            "patent.ods\r\n",
            "(Politics)Feedback for my app.zip\r\n",
            "ビジネススキームイメージ.pptx\r\n",
            "テクノロジーカード　テンプレート.pptx.pdf\r\n",
            "presentation-water.pptx\r\n",
            "テンプレート_Profile Sheet.pptx.pdf\r\n",
            "Profile Sheet 提出箱\r\n",
            "qr.png\r\n",
            "RB 2017-12-15 13.53.14.pdf\r\n",
            "RB 2017-12-15 13.53.22.pdf\r\n",
            "RB 2017-12-15 13.53.26.pdf\r\n",
            "RB 2017-12-27 12.17.36.pdf\r\n",
            "R&D.odt\r\n",
            "Recording Diet.odt\r\n",
            "Recording Diet.odt (01cae44f)\r\n",
            "Recording Diet.odt (340111bf)\r\n",
            "Recording Diet.odt (a0a99632)\r\n",
            "Reflection 1.odt\r\n",
            "Reflection 2 - 2015_8_9 Hideaki Tamori.odt\r\n",
            "Remarks_HIDTM-1.odt\r\n",
            "Report.odt\r\n",
            "S161005-1(panf.jp)_翻訳文.docx\r\n",
            "sakai-wedding.pdf\r\n",
            "screenshot.png\r\n",
            "SEMINAR _ SITE VISIT TAKE-AWAY.odt\r\n",
            "sentence matching.ods\r\n",
            "sentence.ods\r\n",
            "sentence.ods (26a1847f)\r\n",
            "sentence_sports-1.txt\r\n",
            "sentence_sports (93400ac6).txt\r\n",
            "sentence_sports.ods\r\n",
            "sentence_sports.ods (5cb78b06)\r\n",
            "sentence_sports_tw03-1 (39a151a9).txt\r\n",
            "sentence_sports_tw03-1.txt\r\n",
            "sentence_sports.txt\r\n",
            "sentence.txt\r\n",
            "SERENAVI\r\n",
            "０８SP１１．１６１.odt\r\n",
            "stanford\r\n",
            "Summer Enrollment Plan- PreK 2016.odt\r\n",
            "suthesis-example.odt\r\n",
            "Take Away form 2015_cantor.docx\r\n",
            "Take Away form 2015_cantor.docx.odt\r\n",
            "tamori_stanford_final.pptx\r\n",
            "TEAM JET Engine\r\n",
            "Tech2016.key\r\n",
            "Tech2016.pdf\r\n",
            "TechCrunch Disrupt 2015 in SF.odt\r\n",
            "test.ods\r\n",
            "test.ods (53246064)\r\n",
            "test.ods (6e61658c)\r\n",
            "test.ods (860178b2)\r\n",
            "To whom it may concern,.odt\r\n",
            "(TRAVEL)Feedback for my app.zip\r\n",
            "unidir_5cnt.odt\r\n",
            "unidir_5cnt.odt (f88a14b4)\r\n",
            "Untitled 2.png\r\n",
            "Untitled document.odt\r\n",
            "Untitled document.odt (02ce747a)\r\n",
            "Untitled document.odt (15ed80bb)\r\n",
            "Untitled form.zip\r\n",
            "Untitled.png\r\n",
            "Untitled presentation.pdf\r\n",
            "Untitled presentation.pdf (3a10f6a6)\r\n",
            "Untitled spreadsheet.ods\r\n",
            "Untitled spreadsheet.ods (11c908b0)\r\n",
            "Untitled spreadsheet.ods (2072d9ad)\r\n",
            "Untitled spreadsheet.ods (5d3ac55f)\r\n",
            "Untitled spreadsheet.ods (7b763b50)\r\n",
            "Untitled spreadsheet.ods (820c7088)\r\n",
            "Untitled spreadsheet.ods (a392875a)\r\n",
            "Untitled spreadsheet.ods (b385c061)\r\n",
            "Untitled spreadsheet.ods (b6b06811)\r\n",
            "Untitled spreadsheet.ods (b8718c22)\r\n",
            "Untitled spreadsheet.ods (ba3c97ac)\r\n",
            "Upload Data API.odt\r\n",
            "VPN_インストール手順.odt\r\n",
            "VPN_インストール手順.odt (3334deb2)\r\n",
            "Writing Assignment 1 - Email Request.odt\r\n",
            "Writing Assignment #2.odt\r\n",
            "Writing Assignment 3.odt\r\n",
            "Writing Assignment #4.odt\r\n",
            "Writing Assignment #5.odt\r\n",
            "Writing meetings schedule 2015.odt\r\n",
            "Your Child's First Day.tif\r\n",
            "ツイッターアカウント一覧.ods\r\n",
            "今後のお金.ods\r\n",
            "博士論文執筆計画書.odt\r\n",
            "女性p.ods\r\n",
            "（学生用）ｅラーニング教材利用による博士後期課程社会人学生の単位認定について.odt\r\n",
            "（学生用）ｅラーニング教材利用による博士後期課程社会人学生の単位認定について.odt (e3e226c4)\r\n",
            "学生論文校閲費支援実施要項.odt\r\n",
            "家計簿.ods\r\n",
            "対話メディア詳細行動20180712.xlsx\r\n",
            "携帯.ods\r\n",
            "携帯.ods (c4d07bfc)\r\n",
            "昔からあるウエアラブルデバイス.docx\r\n",
            "昔からあるウエアラブルデバイス.docx.odt\r\n",
            "（様式）PM授業科目履修願い.odt\r\n",
            "液晶譜面台プロジェクト提案.doc\r\n",
            "無題スプレッドシート.ods\r\n",
            "プロジェクトマネジメント特論レポート課題.odt\r\n",
            "パーソナルスキル特論レポート課題.odt\r\n",
            "パーソナルスキル特論レポート課題.odt (0992d5d2)\r\n",
            "パーソナルスキル特論レポート課題.odt (6ae17582)\r\n",
            "パーソナルスキル特論レポート課題.odt (e5d5d681)\r\n",
            "メディアラボ田森_海外勤務者_赴任時融資借用証.odt\r\n",
            "田森秀明.odt\r\n",
            "線量当量.ods\r\n",
            "バズる・バズらない言葉.ods\r\n"
          ],
          "name": "stdout"
        }
      ]
    },
    {
      "metadata": {
        "id": "wgF98IX3z8qK",
        "colab_type": "code",
        "colab": {
          "base_uri": "https://localhost:8080/",
          "height": 161
        },
        "outputId": "feb3840d-7195-42c1-e173-fc922faa76f7"
      },
      "cell_type": "code",
      "source": [
        "!pip install glob3"
      ],
      "execution_count": 4,
      "outputs": [
        {
          "output_type": "stream",
          "text": [
            "Collecting glob3\n",
            "  Downloading https://files.pythonhosted.org/packages/d6/21/e042ea7bcb917bac5cf2365d532d44efc23650be81456546a6e89e25371e/glob3-0.0.1.tar.gz\n",
            "Building wheels for collected packages: glob3\n",
            "  Running setup.py bdist_wheel for glob3 ... \u001b[?25l-\b \bdone\n",
            "\u001b[?25h  Stored in directory: /content/.cache/pip/wheels/5c/db/36/aae4683ac0ba95eb154510b48d6bda87fbaac71b6a9b62123d\n",
            "Successfully built glob3\n",
            "Installing collected packages: glob3\n",
            "Successfully installed glob3-0.0.1\n"
          ],
          "name": "stdout"
        }
      ]
    },
    {
      "metadata": {
        "id": "rYUy59x_-yAi",
        "colab_type": "code",
        "colab": {
          "base_uri": "https://localhost:8080/",
          "height": 539
        },
        "outputId": "0a38c2a6-fb45-45bc-ea4b-24beb0cbcd7c"
      },
      "cell_type": "code",
      "source": [
        "import random\n",
        "import copy\n",
        "import json\n",
        "random.sample(range(0, 29), 29)"
      ],
      "execution_count": 8,
      "outputs": [
        {
          "output_type": "execute_result",
          "data": {
            "text/plain": [
              "[3,\n",
              " 6,\n",
              " 0,\n",
              " 10,\n",
              " 25,\n",
              " 24,\n",
              " 16,\n",
              " 1,\n",
              " 15,\n",
              " 22,\n",
              " 2,\n",
              " 21,\n",
              " 13,\n",
              " 8,\n",
              " 5,\n",
              " 18,\n",
              " 26,\n",
              " 17,\n",
              " 9,\n",
              " 4,\n",
              " 19,\n",
              " 14,\n",
              " 28,\n",
              " 20,\n",
              " 23,\n",
              " 7,\n",
              " 12,\n",
              " 27,\n",
              " 11]"
            ]
          },
          "metadata": {
            "tags": []
          },
          "execution_count": 8
        }
      ]
    },
    {
      "metadata": {
        "id": "MdARiYa7vdVG",
        "colab_type": "code",
        "colab": {
          "base_uri": "https://localhost:8080/",
          "height": 133
        },
        "outputId": "4450d775-a4b9-49a4-cd4e-4618b18f6c03"
      },
      "cell_type": "code",
      "source": [
        "import glob\n",
        "import random\n",
        "import copy\n",
        "import json\n",
        "\n",
        "total = ''\n",
        "chars = 'abcdefghijklmnopqrstuvwxyz., '\n",
        "char_index_0 = dict()\n",
        "char_index_1 = dict()\n",
        "\n",
        "random.seed(7104)\n",
        "tmp_random_0 = random.sample(range(0, 29), 29)\n",
        "random.seed(7105)\n",
        "tmp_random_1 = random.sample(range(0, 29), 29)\n",
        "\n",
        "\n",
        "for i in range(len(chars)):\n",
        "  char_index_0[chars[i]] = tmp_random_0[i]\n",
        "  char_index_1[chars[i]] = tmp_random_1[i]\n",
        "\n",
        "print(char_index_0)\n",
        "print(char_index_1)\n",
        "  \n",
        "for name in glob.glob('drive/Colab Notebooks/corpus/bbc/*/*'):\n",
        "  # print(name)\n",
        "  try:\n",
        "    text = open(name).read()\n",
        "  except Exception as ex:\n",
        "    continue\n",
        "  buff = []\n",
        "  for char in list(text.lower()):\n",
        "    if char in char_index_0:\n",
        "      buff.append(char)\n",
        "  total += ''.join(buff)\n",
        "\n",
        "# print(total)\n",
        "\n",
        "# random slice\n",
        "pairs = []\n",
        "for index in random.sample( list(range(0, len(total) - 150)),100000):\n",
        "  _char_index_0 = copy.copy(char_index_0)\n",
        "  _char_index_1 = copy.copy(char_index_1)\n",
        "  real = total[index:index+150]\n",
        "\n",
        "  enigma = []\n",
        "  for diff, char in enumerate(real):\n",
        "    # roater No.1 update _char_index\n",
        "    _char_index_0 = { char:(ind+1)%len(_char_index_0) for char, ind in _char_index_0.items() }\n",
        "    # get index\n",
        "    ind = _char_index_0[char]\n",
        "    next_char = chars[ind]\n",
        "\n",
        "    # roater No.2\n",
        "    _char_index_1 = { char:(ind+1)%len(_char_index_1) for char, ind in _char_index_1.items() }\n",
        "    # get index\n",
        "    ind = _char_index_1[next_char]\n",
        "    next_char = chars[ind]\n",
        "\n",
        "    enigma.append(next_char)\n",
        "  cript = ''.join(enigma)\n",
        "\n",
        "  crop = random.choice(list(range(len(char_index_0))))\n",
        "  real, cript = real[crop:crop+100], cript[crop:crop+100]\n",
        "  pairs.append( (real, cript) )\n",
        "\n",
        "open('drive/Colab Notebooks/corpus/pairs.json', 'w').write( json.dumps(pairs, indent=2) )"
      ],
      "execution_count": 9,
      "outputs": [
        {
          "output_type": "stream",
          "text": [
            "{'a': 13, 'b': 23, 'c': 4, 'd': 10, 'e': 5, 'f': 15, 'g': 12, 'h': 7, 'i': 22, 'j': 1, 'k': 25, 'l': 27, 'm': 16, 'n': 11, 'o': 28, 'p': 20, 'q': 21, 'r': 19, 's': 6, 't': 14, 'u': 2, 'v': 8, 'w': 0, 'x': 3, 'y': 18, 'z': 24, '.': 9, ',': 17, ' ': 26}\n",
            "{'a': 16, 'b': 28, 'c': 19, 'd': 22, 'e': 24, 'f': 14, 'g': 21, 'h': 4, 'i': 8, 'j': 23, 'k': 5, 'l': 26, 'm': 2, 'n': 9, 'o': 17, 'p': 0, 'q': 1, 'r': 10, 's': 3, 't': 20, 'u': 11, 'v': 6, 'w': 13, 'x': 25, 'y': 12, 'z': 7, '.': 15, ',': 27, ' ': 18}\n"
          ],
          "name": "stdout"
        },
        {
          "output_type": "execute_result",
          "data": {
            "text/plain": [
              "22400002"
            ]
          },
          "metadata": {
            "tags": []
          },
          "execution_count": 9
        }
      ]
    },
    {
      "metadata": {
        "id": "Y3uUxRizv6Jp",
        "colab_type": "code",
        "colab": {}
      },
      "cell_type": "code",
      "source": [
        ""
      ],
      "execution_count": 0,
      "outputs": []
    },
    {
      "metadata": {
        "id": "M0IecsTTwL0u",
        "colab_type": "code",
        "colab": {}
      },
      "cell_type": "code",
      "source": [
        ""
      ],
      "execution_count": 0,
      "outputs": []
    },
    {
      "metadata": {
        "id": "ES1vN_tUwMF1",
        "colab_type": "text"
      },
      "cell_type": "markdown",
      "source": [
        ""
      ]
    },
    {
      "metadata": {
        "id": "FVQyfWV2zCo7",
        "colab_type": "code",
        "colab": {}
      },
      "cell_type": "code",
      "source": [
        ""
      ],
      "execution_count": 0,
      "outputs": []
    }
  ]
}