{
  "nbformat": 4,
  "nbformat_minor": 0,
  "metadata": {
    "colab": {
      "name": "Untitled0.ipynb",
      "version": "0.3.2",
      "provenance": [],
      "collapsed_sections": [],
      "toc_visible": true,
      "include_colab_link": true
    },
    "kernelspec": {
      "name": "python3",
      "display_name": "Python 3"
    },
    "accelerator": "GPU"
  },
  "cells": [
    {
      "cell_type": "markdown",
      "metadata": {
        "id": "view-in-github",
        "colab_type": "text"
      },
      "source": [
        "[View in Colaboratory](https://colab.research.google.com/github/htamori/enigma/blob/master/Untitled0.ipynb)"
      ]
    },
    {
      "metadata": {
        "id": "93iRVDOkzHty",
        "colab_type": "code",
        "colab": {
          "base_uri": "https://localhost:8080/",
          "height": 178
        },
        "outputId": "185008a0-4240-4d48-99e9-89668e2af24e"
      },
      "cell_type": "code",
      "source": [
        "# google-drive-ocamlfuseのインストール\n",
        "# https://github.com/astrada/google-drive-ocamlfuse\n",
        "!apt-get install -y -qq software-properties-common python-software-properties module-init-tools\n",
        "!add-apt-repository -y ppa:alessandro-strada/ppa 2>&1 > /dev/null\n",
        "!apt-get update -qq 2>&1 > /dev/null\n",
        "!apt-get -y install -qq google-drive-ocamlfuse fuse\n",
        "\n",
        "# Colab用のAuth token作成\n",
        "from google.colab import auth\n",
        "auth.authenticate_user()\n",
        "\n",
        "# Drive FUSE library用のcredential生成\n",
        "from oauth2client.client import GoogleCredentials\n",
        "creds = GoogleCredentials.get_application_default()\n",
        "import getpass\n",
        "!google-drive-ocamlfuse -headless -id={creds.client_id} -secret={creds.client_secret} < /dev/null 2>&1 | grep URL\n",
        "vcode = getpass.getpass()\n",
        "!echo {vcode} | google-drive-ocamlfuse -headless -id={creds.client_id} -secret={creds.client_secret}\n",
        "\n",
        "# drive/ を作り、そこにGoogle Driveをマウントする\n",
        "!mkdir -p drive\n",
        "!google-drive-ocamlfuse drive"
      ],
      "execution_count": 0,
      "outputs": [
        {
          "output_type": "stream",
          "text": [
            "Please, open the following URL in a web browser: https://accounts.google.com/o/oauth2/auth?client_id=32555940559.apps.googleusercontent.com&redirect_uri=urn%3Aietf%3Awg%3Aoauth%3A2.0%3Aoob&scope=https%3A%2F%2Fwww.googleapis.com%2Fauth%2Fdrive&response_type=code&access_type=offline&approval_prompt=force\r\n",
            "··········\n",
            "Please, open the following URL in a web browser: https://accounts.google.com/o/oauth2/auth?client_id=32555940559.apps.googleusercontent.com&redirect_uri=urn%3Aietf%3Awg%3Aoauth%3A2.0%3Aoob&scope=https%3A%2F%2Fwww.googleapis.com%2Fauth%2Fdrive&response_type=code&access_type=offline&approval_prompt=force\n",
            "Please enter the verification code: Access token retrieved correctly.\n"
          ],
          "name": "stdout"
        }
      ]
    },
    {
      "metadata": {
        "id": "kCqlbOfh2BXS",
        "colab_type": "code",
        "colab": {
          "base_uri": "https://localhost:8080/",
          "height": 35
        },
        "outputId": "3759e5e9-39a7-441c-bfcd-f6c1bf52f4e8"
      },
      "cell_type": "code",
      "source": [
        "!ls drive"
      ],
      "execution_count": 0,
      "outputs": [
        {
          "output_type": "stream",
          "text": [
            "ls: cannot access 'drive': No such file or directory\r\n"
          ],
          "name": "stdout"
        }
      ]
    },
    {
      "metadata": {
        "id": "wgF98IX3z8qK",
        "colab_type": "code",
        "colab": {
          "base_uri": "https://localhost:8080/",
          "height": 475
        },
        "outputId": "9c934d8d-4a38-410b-b6b5-6ca2be173194"
      },
      "cell_type": "code",
      "source": [
        "# https://github.com/kmaehashi/chainer-colab\n",
        "!pip install glob3\n",
        "!pip install sklearn\n",
        "!apt -y install libcusparse8.0 libnvrtc8.0 libnvtoolsext1\n",
        "!ln -snf /usr/lib/x86_64-linux-gnu/libnvrtc-builtins.so.8.0 /usr/lib/x86_64-linux-gnu/libnvrtc-builtins.so\n",
        "!pip install cupy-cuda80 chainer\n",
        "!pip install tqdm"
      ],
      "execution_count": 7,
      "outputs": [
        {
          "output_type": "stream",
          "text": [
            "Requirement already satisfied: glob3 in /usr/local/lib/python3.6/dist-packages (0.0.1)\n",
            "Requirement already satisfied: sklearn in /usr/local/lib/python3.6/dist-packages (0.0)\n",
            "Requirement already satisfied: scikit-learn in /usr/local/lib/python3.6/dist-packages (from sklearn) (0.19.2)\n",
            "Reading package lists... Done\n",
            "Building dependency tree       \n",
            "Reading state information... Done\n",
            "libcusparse8.0 is already the newest version (8.0.61-1).\n",
            "libnvrtc8.0 is already the newest version (8.0.61-1).\n",
            "libnvtoolsext1 is already the newest version (8.0.61-1).\n",
            "0 upgraded, 0 newly installed, 0 to remove and 0 not upgraded.\n",
            "Requirement already satisfied: cupy-cuda80 in /usr/local/lib/python3.6/dist-packages (4.3.0)\n",
            "Requirement already satisfied: chainer in /usr/local/lib/python3.6/dist-packages (4.3.1)\n",
            "Requirement already satisfied: six>=1.9.0 in /usr/local/lib/python3.6/dist-packages (from cupy-cuda80) (1.11.0)\n",
            "Requirement already satisfied: numpy>=1.9.0 in /usr/local/lib/python3.6/dist-packages (from cupy-cuda80) (1.14.5)\n",
            "Requirement already satisfied: fastrlock>=0.3 in /usr/local/lib/python3.6/dist-packages (from cupy-cuda80) (0.3)\n",
            "Requirement already satisfied: protobuf>=3.0.0 in /usr/local/lib/python3.6/dist-packages (from chainer) (3.6.0)\n",
            "Requirement already satisfied: filelock in /usr/local/lib/python3.6/dist-packages (from chainer) (3.0.4)\n",
            "Requirement already satisfied: setuptools in /usr/local/lib/python3.6/dist-packages (from protobuf>=3.0.0->chainer) (39.1.0)\n",
            "Collecting tqdm\n",
            "\u001b[?25l  Downloading https://files.pythonhosted.org/packages/7d/e6/19dfaff08fcbee7f3453e5b537e65a8364f1945f921a36d08be1e2ff3475/tqdm-4.24.0-py2.py3-none-any.whl (43kB)\n",
            "\u001b[K    100% |████████████████████████████████| 51kB 2.5MB/s \n",
            "\u001b[?25hInstalling collected packages: tqdm\n",
            "Successfully installed tqdm-4.24.0\n"
          ],
          "name": "stdout"
        }
      ]
    },
    {
      "metadata": {
        "id": "MdARiYa7vdVG",
        "colab_type": "code",
        "colab": {
          "base_uri": "https://localhost:8080/",
          "height": 133
        },
        "outputId": "4450d775-a4b9-49a4-cd4e-4618b18f6c03"
      },
      "cell_type": "code",
      "source": [
        "import glob\n",
        "import random\n",
        "import copy\n",
        "import json\n",
        "\n",
        "total = ''\n",
        "chars = 'abcdefghijklmnopqrstuvwxyz., '\n",
        "char_index_0 = dict()\n",
        "char_index_1 = dict()\n",
        "\n",
        "random.seed(7104)\n",
        "tmp_random_0 = random.sample(range(0, 29), 29)\n",
        "random.seed(7105)\n",
        "tmp_random_1 = random.sample(range(0, 29), 29)\n",
        "\n",
        "\n",
        "for i in range(len(chars)):\n",
        "  char_index_0[chars[i]] = tmp_random_0[i]\n",
        "  char_index_1[chars[i]] = tmp_random_1[i]\n",
        "\n",
        "print(char_index_0)\n",
        "print(char_index_1)\n",
        "  \n",
        "for name in glob.glob('drive/Colab Notebooks/corpus/bbc/*/*'):\n",
        "  # print(name)\n",
        "  try:\n",
        "    text = open(name).read()\n",
        "  except Exception as ex:\n",
        "    continue\n",
        "  buff = []\n",
        "  for char in list(text.lower()):\n",
        "    if char in char_index_0:\n",
        "      buff.append(char)\n",
        "  total += ''.join(buff)\n",
        "\n",
        "# print(total)\n",
        "\n",
        "# random slice\n",
        "pairs = []\n",
        "for index in random.sample( list(range(0, len(total) - 150)),100000):\n",
        "  _char_index_0 = copy.copy(char_index_0)\n",
        "  _char_index_1 = copy.copy(char_index_1)\n",
        "  real = total[index:index+150]\n",
        "\n",
        "  enigma = []\n",
        "  for diff, char in enumerate(real):\n",
        "    # roater No.1 update _char_index\n",
        "    _char_index_0 = { char:(ind+1)%len(_char_index_0) for char, ind in _char_index_0.items() }\n",
        "    # get index\n",
        "    ind = _char_index_0[char]\n",
        "    next_char = chars[ind]\n",
        "\n",
        "    # roater No.2\n",
        "    _char_index_1 = { char:(ind+1)%len(_char_index_1) for char, ind in _char_index_1.items() }\n",
        "    # get index\n",
        "    ind = _char_index_1[next_char]\n",
        "    next_char = chars[ind]\n",
        "\n",
        "    enigma.append(next_char)\n",
        "  cript = ''.join(enigma)\n",
        "\n",
        "  crop = random.choice(list(range(len(char_index_0))))\n",
        "  real, cript = real[crop:crop+100], cript[crop:crop+100]\n",
        "  pairs.append( (real, cript) )\n",
        "\n",
        "open('drive/Colab Notebooks/corpus/pairs.json', 'w').write( json.dumps(pairs, indent=2) )"
      ],
      "execution_count": 0,
      "outputs": [
        {
          "output_type": "stream",
          "text": [
            "{'a': 13, 'b': 23, 'c': 4, 'd': 10, 'e': 5, 'f': 15, 'g': 12, 'h': 7, 'i': 22, 'j': 1, 'k': 25, 'l': 27, 'm': 16, 'n': 11, 'o': 28, 'p': 20, 'q': 21, 'r': 19, 's': 6, 't': 14, 'u': 2, 'v': 8, 'w': 0, 'x': 3, 'y': 18, 'z': 24, '.': 9, ',': 17, ' ': 26}\n",
            "{'a': 16, 'b': 28, 'c': 19, 'd': 22, 'e': 24, 'f': 14, 'g': 21, 'h': 4, 'i': 8, 'j': 23, 'k': 5, 'l': 26, 'm': 2, 'n': 9, 'o': 17, 'p': 0, 'q': 1, 'r': 10, 's': 3, 't': 20, 'u': 11, 'v': 6, 'w': 13, 'x': 25, 'y': 12, 'z': 7, '.': 15, ',': 27, ' ': 18}\n"
          ],
          "name": "stdout"
        },
        {
          "output_type": "execute_result",
          "data": {
            "text/plain": [
              "22400002"
            ]
          },
          "metadata": {
            "tags": []
          },
          "execution_count": 9
        }
      ]
    },
    {
      "metadata": {
        "id": "l4BV73Brrcxv",
        "colab_type": "code",
        "colab": {}
      },
      "cell_type": "code",
      "source": [
        "import chainer\n",
        "import chainer.functions as F\n",
        "import chainer.links as L\n",
        "\n",
        "from chainer import Chain\n",
        "from chainer import cuda\n",
        "from chainer import optimizers\n",
        "from chainer import serializers\n",
        "from chainer import Variable\n",
        "\n",
        "import configparser\n",
        "import cupy\n",
        "\n",
        "class decrypt_enigma(chainer.Chain):\n",
        "  def __init__(self, encode_vocab_size, decode_vocab_size, dim_embed, n_bilstm_layer, n_lstm_layer, n_hidden_layer, n_lstm_dropout):\n",
        "    super(decrypt_enigma, self).__init__(\n",
        "      enc_embed = L.EmbedID(encode_vocab_size, dim_embed),\n",
        "      enc_lstm = L.NStepBiLSTM(n_bilstm_layer, dim_embed, n_hidden_layer, n_lstm_dropout),\n",
        "\n",
        "      dec_embed = L.EmbedID(decode_vocab_size, dim_embed),\n",
        "        \n",
        "      enc_to_dec_hidden = L.Linear(n_hidden_layer * 2, n_hidden_layer),\n",
        "      enc_to_dec_cell = L.Linear(n_hidden_layer * 2, n_hidden_layer),\n",
        "                \n",
        "      dec_lstm = L.NStepLSTM(n_lstm_layer, dim_embed, n_hidden_layer, n_lstm_dropout),\n",
        "      dec_linear = L.Linear(n_hidden_layer, decode_vocab_size),\n",
        "    )\n",
        "    \n",
        "  def __call__(self, encrypted, original_in, original_out):\n",
        "\n",
        "    batch_size = len(encrypted)\n",
        "    embedding_encrypted = [self.enc_embed(sent_encrypted) for sent_encrypted in encrypted]\n",
        "    embedding_original_in = [self.dec_embed(sent_original) for sent_original in original_in]\n",
        "\n",
        "    hidden_states, cell_states, _ = self.enc_lstm(None, None, embedding_encrypted)\n",
        "    hidden_states = F.concat(hidden_states, axis=1)\n",
        "    #hidden_states = F.reshape(hidden_states, (1, hidden_states.shape[0], hidden_states.shape[1]))\n",
        "    cell_states = F.concat(cell_states, axis=1)\n",
        "    #cell_states = F.reshape(cell_states, (1, cell_states.shape[0], cell_states.shape[1]))\n",
        "    \n",
        "    hidden = self.enc_to_dec_hidden(hidden_states)\n",
        "    cell = self.enc_to_dec_cell(cell_states)\n",
        "    # print(hidden.shape, cell.shape)\n",
        "    hidden = F.reshape(hidden, (1, hidden.shape[0], hidden.shape[1]))\n",
        "    cell = F.reshape(cell, (1, cell.shape[0], cell.shape[1]))\n",
        "    \n",
        "    _, _, embedded_outputs = self.dec_lstm(hidden, cell, embedding_original_in)\n",
        "   \n",
        "    loss = 0.0\n",
        "    for embedded_output, original in zip(embedded_outputs, original_out):\n",
        "      # print(embedded_output.shape)\n",
        "      output = self.dec_linear(embedded_output)\n",
        "      loss += F.softmax_cross_entropy(output, original)\n",
        "\n",
        "    \n",
        "    loss /= batch_size\n",
        "    return loss\n",
        "  \n",
        "  def translate(self, encrypted, original, eos_id=29, max_len=120):\n",
        "    with chainer.no_backprop_mode(), chainer.using_config('train', False):\n",
        "      embedding_encrypted = [self.enc_embed(sent_encrypted) for sent_encrypted in encrypted]\n",
        "      hidden_states, cell_states, _ = self.enc_lstm(None, None, embedding_encrypted)\n",
        "      hidden_states = F.concat(hidden_states, axis=1)\n",
        "      #hidden_states = F.reshape(hidden_states, (1, hidden_states.shape[0], hidden_states.shape[1]))\n",
        "      cell_states = F.concat(cell_states, axis=1)\n",
        "      #cell_states = F.reshape(cell_states, (1, cell_states.shape[0], cell_states.shape[1]))\n",
        "\n",
        "      hidden = self.enc_to_dec_hidden(hidden_states)\n",
        "      cell = self.enc_to_dec_cell(cell_states)\n",
        "      # print(hidden.shape, cell.shape)\n",
        "      hidden = F.reshape(hidden, (1, hidden.shape[0], hidden.shape[1]))\n",
        "      cell = F.reshape(cell, (1, cell.shape[0], cell.shape[1]))\n",
        "\n",
        "      wid = eos_id\n",
        "      output_for_sce = []\n",
        "      for i in range(max_len):\n",
        "        wid_xparray = Variable(xp.array([wid], dtype=xp.int32))\n",
        "        wid_embedding = self.dec_embed(wid_xparray)\n",
        "        hidden, cell, output = self.dec_lstm(hidden, cell, [wid_embedding])\n",
        "        output = self.dec_linear(output[0])\n",
        "        loss = F.softmax_cross_entropy(output, original)\n",
        "        output_softmax = F.softmax(output)\n",
        "        wid = np.argmax(output_softmax.data)\n",
        "        ret_id_seq.append(wid)\n",
        "        if wid == eos_id:\n",
        "          break\n",
        "      return ret_id_seq\n",
        "\n",
        "    "
      ],
      "execution_count": 0,
      "outputs": []
    },
    {
      "metadata": {
        "id": "Y3uUxRizv6Jp",
        "colab_type": "code",
        "colab": {
          "base_uri": "https://localhost:8080/",
          "height": 4260
        },
        "outputId": "bc2b9e42-1796-4d1e-9fab-9ba1c4c24b76"
      },
      "cell_type": "code",
      "source": [
        "import json\n",
        "import numpy as np\n",
        "from tqdm import tqdm\n",
        "\n",
        "with open('drive/Colab Notebooks/corpus/pairs_3000_1.json', 'r') as f:\n",
        "  json_cont = json.loads(f.read())\n",
        "\n",
        "original = []\n",
        "encrypted = []\n",
        "eos = '<eos>'\n",
        "for pair in json_cont:\n",
        "  tmp_original_in = list(pair[0])\n",
        "  tmp_original_out = list(pair[0])\n",
        "  tmp_encrypted = list(pair[1])\n",
        "\n",
        "  tmp_original_in.insert(0, eos)\n",
        "  tmp_original_out.append(eos)\n",
        "  tmp_encrypted.append(eos)\n",
        "  tmp_original=[tmp_original_in, tmp_original_out]      \n",
        "  original.append(tmp_original)\n",
        "\n",
        "  encrypted.append(tmp_encrypted)\n",
        "\n",
        "print('total size of original data: {}, encrypted: {}'.format(str(len(original)), str(len(encrypted))))\n",
        "print(original[0])\n",
        "char_to_id = {}\n",
        "id_to_char = {}\n",
        "chars = 'abcdefghijklmnopqrstuvwxyz., '\n",
        "for i in range(len(chars)):\n",
        "  char_to_id[chars[i]] = i\n",
        "  id_to_char[i] = chars[i]\n",
        "  \n",
        "char_to_id[eos] = len(chars)\n",
        "id_to_char[len(chars)] = eos\n",
        "\n",
        "ided_original = []\n",
        "ided_encrypted = []\n",
        "for orig_sent in original:\n",
        "  temp_in = []\n",
        "  temp_out = []\n",
        "  for orig_char in orig_sent[0]:\n",
        "    temp_in.append(char_to_id[orig_char])\n",
        "  for orig_char in orig_sent[1]:\n",
        "    temp_out.append(char_to_id[orig_char])\n",
        "  temp = [temp_in, temp_out]\n",
        "  ided_original.append(temp)\n",
        "  \n",
        "for enc_sent in encrypted:\n",
        "  temp = []\n",
        "  for enc_char in enc_sent:\n",
        "    temp.append(char_to_id[enc_char])\n",
        "  ided_encrypted.append(temp)\n",
        "\n",
        "  \n",
        "\n",
        "from sklearn.model_selection import train_test_split\n",
        "x_original, t_original, x_encrypted, t_encrypted = train_test_split(ided_original, \n",
        "                                                                    ided_encrypted,\n",
        "                                                                    test_size=0.05)\n",
        "\n",
        "print('size of training data: {}, test_data: {}'.format(str(len(x_original)), str(len(t_original))))\n",
        "print(x_original[0])\n",
        "print(x_encrypted[0])\n",
        "N = len(x_original)\n",
        "N_test = len(t_original)\n",
        "\n",
        "model = decrypt_enigma(30, 30, 128, 1, 1, 512, 0.1)\n",
        "optimizer = optimizers.Adam()\n",
        "optimizer.setup(model)\n",
        "optimizer.add_hook(chainer.optimizer.GradientClipping(5))\n",
        "\n",
        "batch_train = 128\n",
        "batch_test = 1\n",
        "n_epoch = 10\n",
        "\n",
        "cuda.check_cuda_available()\n",
        "cuda.get_device(0).use()\n",
        "xp = cupy\n",
        "if xp == cupy:\n",
        "  model.to_gpu()\n",
        "\n",
        "\n",
        "for epoch in range(n_epoch):\n",
        "  perm = np.random.permutation(N)\n",
        "  bar = tqdm(total=int(N/batch_train))\n",
        "  acc_loss = 0.0\n",
        "  for i in range(0, N, batch_train):\n",
        "    model.cleargrads()\n",
        "    index = perm[i: (i+batch_train) if (i+batch_train) < N else N]\n",
        "    batch_encrypted = [Variable(xp.array(x_encrypted[j], dtype=xp.int32)) for j in index]\n",
        "    batch_original_in = [Variable(xp.array(x_original[j][0], dtype=xp.int32)) for j in index]\n",
        "    batch_original_out = [Variable(xp.array(x_original[j][1], dtype=xp.int32)) for j in index]\n",
        "\n",
        "    loss = model(batch_encrypted, batch_original_in, batch_original_out)\n",
        "    acc_loss += loss.data\n",
        "    loss.backward()\n",
        "    optimizer.update()\n",
        "    bar.update(1)\n",
        "  acc_loss /= int(N/batch_train)\n",
        "  \n",
        "  acc_test_loss = 0.0\n",
        "  for i in range(0, N_test):\n",
        "    encrypted = [Variable(xp.array(t_encrypted[i], dtype=xp.int32))]\n",
        "    original = Variable(xp.array(t_original[i][1], dtype=xp.int32))\n",
        "    translate_id_seq = model.translate(encrypted, original)\n",
        "    v_translate_id_seq = Variable(xp.array(translate_id_seq, dtype=xp.float32))\n",
        "    print(v_translate_id_seq.data)\n",
        "    print(original.data)\n",
        "\n",
        "    test_loss = F.softmax_cross_entropy(v_translate_id_seq, original)\n",
        "    acc_test_loss += test_loss.data\n",
        "  acc_test_loss /= N_test\n",
        "    \n",
        "  print('epoch:{}, train_loss:{}, test_loss:{}'.format(str(epoch), str(acc_loss), str(acc_test_loss)))\n",
        "  \n",
        "  id_to_char_encrypted = [id_to_char[t_encrypted[-1][j]] for j in range(len(t_encrypted[-1]))]\n",
        "  id_to_char_decoded = [id_to_char[translate_id_seq[j]] for j in range(len(translate_id_seq))]\n",
        "  id_to_char_original = [id_to_char[t_original[-1][j]] for j in range(len(t_original[-1]))]\n",
        "  print('encrypted: {}'.format(''.join(id_to_char_encrypted)))\n",
        "  print('decoded: {}'.format(''.join(id_to_char_decoded)))\n",
        "  print('original: {}'.format(''.join(id_to_char_original)))\n",
        "\n",
        "  outfile = 'drive/Colab Notebooks/model_epoch{}_{}.npz'.format(str(epoch), str(acc_test_loss))\n",
        "  serializers.save_npz(outfile, model)\n",
        "  \n"
      ],
      "execution_count": 49,
      "outputs": [
        {
          "output_type": "stream",
          "text": [
            "total size of original data: 749, encrypted: 749\n",
            "[['<eos>', 'a', 't', 't', 'a', 'c', 'k', '.', 't', 'o', 'r', 'y', ' ', 'l', 'e', 'a', 'd', 'e', 'r', ' ', 'm', 'i', 'c', 'h', 'a', 'e', 'l', ' ', 'h', 'o', 'w', 'a', 'r', 'd', ' ', 'h', 'a', 's', ' ', 'a', 'c', 'c', 'u', 's', 'e', 'd', ' ', 'm', 'r', ' ', 'b', 'l', 'a', 'i', 'r', ' ', 'o', 'f', ' ', 's', 't', 'e', 'a', 'm', 'r', 'o', 'l', 'l', 'i', 'n', 'g', ' ', 't', 'h', 'e', ' ', 'h', 'o', 'u', 's', 'e', ' ', 'a', 'r', 'r', 'e', 's', 't', ' ', 'p', 'l', 'a', 'n', 's', ' ', 'a', 'n', 'd', ' ', 'o', 'f'], ['a', 't', 't', 'a', 'c', 'k', '.', 't', 'o', 'r', 'y', ' ', 'l', 'e', 'a', 'd', 'e', 'r', ' ', 'm', 'i', 'c', 'h', 'a', 'e', 'l', ' ', 'h', 'o', 'w', 'a', 'r', 'd', ' ', 'h', 'a', 's', ' ', 'a', 'c', 'c', 'u', 's', 'e', 'd', ' ', 'm', 'r', ' ', 'b', 'l', 'a', 'i', 'r', ' ', 'o', 'f', ' ', 's', 't', 'e', 'a', 'm', 'r', 'o', 'l', 'l', 'i', 'n', 'g', ' ', 't', 'h', 'e', ' ', 'h', 'o', 'u', 's', 'e', ' ', 'a', 'r', 'r', 'e', 's', 't', ' ', 'p', 'l', 'a', 'n', 's', ' ', 'a', 'n', 'd', ' ', 'o', 'f', '<eos>']]\n",
            "size of training data: 711, test_data: 38\n",
            "[[29, 19, 14, 17, 24, 28, 17, 4, 19, 8, 17, 4, 12, 4, 13, 19, 28, 0, 6, 4, 28, 5, 14, 17, 28, 15, 20, 1, 11, 8, 2, 28, 18, 4, 17, 21, 8, 2, 4, 28, 22, 14, 17, 10, 4, 17, 18, 28, 5, 17, 14, 12, 28, 28, 19, 14, 28, 26, 28, 19, 7, 4, 28, 6, 14, 21, 4, 17, 13, 12, 4, 13, 19, 28, 18, 0, 24, 18, 28, 20, 13, 8, 14, 13, 18, 28, 22, 8, 11, 11, 28, 1, 4, 28, 2, 14, 13, 18, 20, 11, 19], [19, 14, 17, 24, 28, 17, 4, 19, 8, 17, 4, 12, 4, 13, 19, 28, 0, 6, 4, 28, 5, 14, 17, 28, 15, 20, 1, 11, 8, 2, 28, 18, 4, 17, 21, 8, 2, 4, 28, 22, 14, 17, 10, 4, 17, 18, 28, 5, 17, 14, 12, 28, 28, 19, 14, 28, 26, 28, 19, 7, 4, 28, 6, 14, 21, 4, 17, 13, 12, 4, 13, 19, 28, 18, 0, 24, 18, 28, 20, 13, 8, 14, 13, 18, 28, 22, 8, 11, 11, 28, 1, 4, 28, 2, 14, 13, 18, 20, 11, 19, 29]]\n",
            "[1, 4, 8, 9, 15, 12, 6, 13, 19, 17, 3, 3, 17, 20, 22, 19, 19, 20, 5, 17, 6, 18, 26, 20, 17, 17, 23, 0, 5, 12, 22, 22, 23, 20, 24, 14, 7, 27, 24, 27, 28, 6, 23, 10, 10, 15, 18, 1, 0, 16, 12, 18, 20, 5, 3, 13, 16, 1, 1, 21, 20, 6, 2, 17, 7, 11, 0, 6, 19, 9, 28, 5, 14, 21, 19, 3, 25, 17, 19, 6, 15, 22, 10, 19, 13, 19, 5, 21, 9, 10, 12, 14, 28, 23, 22, 4, 2, 14, 21, 21, 29]\n"
          ],
          "name": "stdout"
        },
        {
          "output_type": "stream",
          "text": [
            "\n",
            "\n",
            "\n",
            "\n",
            "\n",
            "\n",
            "\n",
            "\n",
            "\n",
            "\n",
            "\n",
            "\n",
            "\n",
            "\n",
            "\n",
            "\n",
            "\n",
            "\n",
            "\n",
            "\n",
            "\n",
            "  0%|          | 0/5 [00:00<?, ?it/s]\u001b[A\u001b[A\u001b[A\u001b[A\u001b[A\u001b[A\u001b[A\u001b[A\u001b[A\u001b[A\u001b[A\u001b[A\u001b[A\u001b[A\u001b[A\u001b[A\u001b[A\u001b[A\u001b[A\u001b[A\u001b[A\n",
            "\n",
            "\n",
            "\n",
            "\n",
            "\n",
            "\n",
            "\n",
            "\n",
            "\n",
            "\n",
            "\n",
            "\n",
            "\n",
            "\n",
            "\n",
            "\n",
            "\n",
            "\n",
            "\n",
            "\n",
            " 20%|██        | 1/5 [00:00<00:02,  1.45it/s]\u001b[A\u001b[A\u001b[A\u001b[A\u001b[A\u001b[A\u001b[A\u001b[A\u001b[A\u001b[A\u001b[A\u001b[A\u001b[A\u001b[A\u001b[A\u001b[A\u001b[A\u001b[A\u001b[A\u001b[A\u001b[A\n",
            "\n",
            "\n",
            "\n",
            "\n",
            "\n",
            "\n",
            "\n",
            "\n",
            "\n",
            "\n",
            "\n",
            "\n",
            "\n",
            "\n",
            "\n",
            "\n",
            "\n",
            "\n",
            "\n",
            "\n",
            " 40%|████      | 2/5 [00:01<00:02,  1.49it/s]\u001b[A\u001b[A\u001b[A\u001b[A\u001b[A\u001b[A\u001b[A\u001b[A\u001b[A\u001b[A\u001b[A\u001b[A\u001b[A\u001b[A\u001b[A\u001b[A\u001b[A\u001b[A\u001b[A\u001b[A\u001b[A\n",
            "\n",
            "\n",
            "\n",
            "\n",
            "\n",
            "\n",
            "\n",
            "\n",
            "\n",
            "\n",
            "\n",
            "\n",
            "\n",
            "\n",
            "\n",
            "\n",
            "\n",
            "\n",
            "\n",
            "\n",
            " 60%|██████    | 3/5 [00:01<00:01,  1.54it/s]\u001b[A\u001b[A\u001b[A\u001b[A\u001b[A\u001b[A\u001b[A\u001b[A\u001b[A\u001b[A\u001b[A\u001b[A\u001b[A\u001b[A\u001b[A\u001b[A\u001b[A\u001b[A\u001b[A\u001b[A\u001b[A\n",
            "\n",
            "\n",
            "\n",
            "\n",
            "\n",
            "\n",
            "\n",
            "\n",
            "\n",
            "\n",
            "\n",
            "\n",
            "\n",
            "\n",
            "\n",
            "\n",
            "\n",
            "\n",
            "\n",
            "\n",
            " 80%|████████  | 4/5 [00:02<00:00,  1.57it/s]\u001b[A\u001b[A\u001b[A\u001b[A\u001b[A\u001b[A\u001b[A\u001b[A\u001b[A\u001b[A\u001b[A\u001b[A\u001b[A\u001b[A\u001b[A\u001b[A\u001b[A\u001b[A\u001b[A\u001b[A\u001b[A\n",
            "\n",
            "\n",
            "\n",
            "\n",
            "\n",
            "\n",
            "\n",
            "\n",
            "\n",
            "\n",
            "\n",
            "\n",
            "\n",
            "\n",
            "\n",
            "\n",
            "\n",
            "\n",
            "\n",
            "\n",
            "100%|██████████| 5/5 [00:03<00:00,  1.55it/s]\u001b[A\u001b[A\u001b[A\u001b[A\u001b[A\u001b[A\u001b[A\u001b[A\u001b[A\u001b[A\u001b[A\u001b[A\u001b[A\u001b[A\u001b[A\u001b[A\u001b[A\u001b[A\u001b[A\u001b[A\u001b[A\n",
            "\n",
            "\n",
            "\n",
            "\n",
            "\n",
            "\n",
            "\n",
            "\n",
            "\n",
            "\n",
            "\n",
            "\n",
            "\n",
            "\n",
            "\n",
            "\n",
            "\n",
            "\n",
            "\n",
            "\n",
            "6it [00:03,  1.76it/s]                       \u001b[A\u001b[A\u001b[A\u001b[A\u001b[A\u001b[A\u001b[A\u001b[A\u001b[A\u001b[A\u001b[A\u001b[A\u001b[A\u001b[A\u001b[A\u001b[A\u001b[A\u001b[A\u001b[A\u001b[A\u001b[A"
          ],
          "name": "stderr"
        },
        {
          "output_type": "stream",
          "text": [
            "[28. 19.  4. 28. 19. 28.  4. 28. 19.  4. 28. 19. 28.  4. 28. 19.  4. 28.\n",
            " 19. 28.  4. 28. 19.  4. 28. 19. 28.  4. 28. 19.  4. 28. 19. 28.  4. 28.\n",
            " 19.  4. 28. 19. 28.  4. 28. 19.  4. 28. 19. 28.  4. 28. 19.  4. 28. 19.\n",
            " 28.  4. 28. 19.  4. 28. 19. 28.  4. 28. 19.  4. 28. 19. 28.  4. 28. 19.\n",
            "  4. 28. 19. 28.  4. 28. 19.  4. 28. 19. 28.  4. 28. 19.  4. 28. 19. 28.\n",
            "  4. 28. 19.  4. 28. 19. 28.  4. 28. 19.  4. 28. 19. 28.  4. 28. 19.  4.\n",
            " 28. 19. 28.  4. 28. 19.  4. 28. 19. 28.  4. 28.]\n",
            "[18 28  0 28 17  4 18 20 11 19 26 28  9  0 12  8  4 28  7  0 18 28  0 11\n",
            " 18 14 28 19 17  0 21  4 11 11  4  3 28 19 14 28 17  4  2  4  8 21  4 28\n",
            " 19 17  4  0 19 12  4 13 19 28  0 19 28 19  7  4 28 15 14 11  8 18  7 28\n",
            " 19 17  0  8 13  8 13  6 28  2  4 13 19 17  4 28  8 13 28 18 15  0 11  0\n",
            " 28 22  7  4 29]\n"
          ],
          "name": "stdout"
        },
        {
          "output_type": "error",
          "ename": "InvalidType",
          "evalue": "ignored",
          "traceback": [
            "\u001b[0;31m---------------------------------------------------------------------------\u001b[0m",
            "\u001b[0;31mInvalidType\u001b[0m                               Traceback (most recent call last)",
            "\u001b[0;32m<ipython-input-49-bc02f44d99ee>\u001b[0m in \u001b[0;36m<module>\u001b[0;34m()\u001b[0m\n\u001b[1;32m    108\u001b[0m     \u001b[0mprint\u001b[0m\u001b[0;34m(\u001b[0m\u001b[0moriginal\u001b[0m\u001b[0;34m.\u001b[0m\u001b[0mdata\u001b[0m\u001b[0;34m)\u001b[0m\u001b[0;34m\u001b[0m\u001b[0m\n\u001b[1;32m    109\u001b[0m \u001b[0;34m\u001b[0m\u001b[0m\n\u001b[0;32m--> 110\u001b[0;31m     \u001b[0mtest_loss\u001b[0m \u001b[0;34m=\u001b[0m \u001b[0mF\u001b[0m\u001b[0;34m.\u001b[0m\u001b[0msoftmax_cross_entropy\u001b[0m\u001b[0;34m(\u001b[0m\u001b[0mv_translate_id_seq\u001b[0m\u001b[0;34m,\u001b[0m \u001b[0moriginal\u001b[0m\u001b[0;34m)\u001b[0m\u001b[0;34m\u001b[0m\u001b[0m\n\u001b[0m\u001b[1;32m    111\u001b[0m     \u001b[0macc_test_loss\u001b[0m \u001b[0;34m+=\u001b[0m \u001b[0mtest_loss\u001b[0m\u001b[0;34m.\u001b[0m\u001b[0mdata\u001b[0m\u001b[0;34m\u001b[0m\u001b[0m\n\u001b[1;32m    112\u001b[0m   \u001b[0macc_test_loss\u001b[0m \u001b[0;34m/=\u001b[0m \u001b[0mN_test\u001b[0m\u001b[0;34m\u001b[0m\u001b[0m\n",
            "\u001b[0;32m/usr/local/lib/python3.6/dist-packages/chainer/functions/loss/softmax_cross_entropy.py\u001b[0m in \u001b[0;36msoftmax_cross_entropy\u001b[0;34m(x, t, normalize, cache_score, class_weight, ignore_label, reduce, enable_double_backprop)\u001b[0m\n\u001b[1;32m    379\u001b[0m     \u001b[0;32melse\u001b[0m\u001b[0;34m:\u001b[0m\u001b[0;34m\u001b[0m\u001b[0m\n\u001b[1;32m    380\u001b[0m         return SoftmaxCrossEntropy(\n\u001b[0;32m--> 381\u001b[0;31m             normalize, cache_score, class_weight, ignore_label, reduce)(x, t)\n\u001b[0m",
            "\u001b[0;32m/usr/local/lib/python3.6/dist-packages/chainer/function.py\u001b[0m in \u001b[0;36m__call__\u001b[0;34m(self, *inputs)\u001b[0m\n\u001b[1;32m    233\u001b[0m         \u001b[0mself\u001b[0m\u001b[0;34m.\u001b[0m\u001b[0m_owned_node\u001b[0m \u001b[0;34m=\u001b[0m \u001b[0;32mNone\u001b[0m\u001b[0;34m\u001b[0m\u001b[0m\n\u001b[1;32m    234\u001b[0m \u001b[0;34m\u001b[0m\u001b[0m\n\u001b[0;32m--> 235\u001b[0;31m         \u001b[0mret\u001b[0m \u001b[0;34m=\u001b[0m \u001b[0mnode\u001b[0m\u001b[0;34m.\u001b[0m\u001b[0mapply\u001b[0m\u001b[0;34m(\u001b[0m\u001b[0minputs\u001b[0m\u001b[0;34m)\u001b[0m\u001b[0;34m\u001b[0m\u001b[0m\n\u001b[0m\u001b[1;32m    236\u001b[0m \u001b[0;34m\u001b[0m\u001b[0m\n\u001b[1;32m    237\u001b[0m         \u001b[0;32mif\u001b[0m \u001b[0mlen\u001b[0m\u001b[0;34m(\u001b[0m\u001b[0mret\u001b[0m\u001b[0;34m)\u001b[0m \u001b[0;34m==\u001b[0m \u001b[0;36m1\u001b[0m\u001b[0;34m:\u001b[0m\u001b[0;34m\u001b[0m\u001b[0m\n",
            "\u001b[0;32m/usr/local/lib/python3.6/dist-packages/chainer/function_node.py\u001b[0m in \u001b[0;36mapply\u001b[0;34m(self, inputs)\u001b[0m\n\u001b[1;32m    241\u001b[0m \u001b[0;34m\u001b[0m\u001b[0m\n\u001b[1;32m    242\u001b[0m         \u001b[0;32mif\u001b[0m \u001b[0mconfiguration\u001b[0m\u001b[0;34m.\u001b[0m\u001b[0mconfig\u001b[0m\u001b[0;34m.\u001b[0m\u001b[0mtype_check\u001b[0m\u001b[0;34m:\u001b[0m\u001b[0;34m\u001b[0m\u001b[0m\n\u001b[0;32m--> 243\u001b[0;31m             \u001b[0mself\u001b[0m\u001b[0;34m.\u001b[0m\u001b[0m_check_data_type_forward\u001b[0m\u001b[0;34m(\u001b[0m\u001b[0min_data\u001b[0m\u001b[0;34m)\u001b[0m\u001b[0;34m\u001b[0m\u001b[0m\n\u001b[0m\u001b[1;32m    244\u001b[0m \u001b[0;34m\u001b[0m\u001b[0m\n\u001b[1;32m    245\u001b[0m         \u001b[0mhooks\u001b[0m \u001b[0;34m=\u001b[0m \u001b[0mchainer\u001b[0m\u001b[0;34m.\u001b[0m\u001b[0mget_function_hooks\u001b[0m\u001b[0;34m(\u001b[0m\u001b[0;34m)\u001b[0m\u001b[0;34m\u001b[0m\u001b[0m\n",
            "\u001b[0;32m/usr/local/lib/python3.6/dist-packages/chainer/function_node.py\u001b[0m in \u001b[0;36m_check_data_type_forward\u001b[0;34m(self, in_data)\u001b[0m\n\u001b[1;32m    326\u001b[0m         \u001b[0min_type\u001b[0m \u001b[0;34m=\u001b[0m \u001b[0mtype_check\u001b[0m\u001b[0;34m.\u001b[0m\u001b[0mget_types\u001b[0m\u001b[0;34m(\u001b[0m\u001b[0min_data\u001b[0m\u001b[0;34m,\u001b[0m \u001b[0;34m'in_types'\u001b[0m\u001b[0;34m,\u001b[0m \u001b[0;32mFalse\u001b[0m\u001b[0;34m)\u001b[0m\u001b[0;34m\u001b[0m\u001b[0m\n\u001b[1;32m    327\u001b[0m         \u001b[0;32mwith\u001b[0m \u001b[0mtype_check\u001b[0m\u001b[0;34m.\u001b[0m\u001b[0mget_function_check_context\u001b[0m\u001b[0;34m(\u001b[0m\u001b[0mself\u001b[0m\u001b[0;34m)\u001b[0m\u001b[0;34m:\u001b[0m\u001b[0;34m\u001b[0m\u001b[0m\n\u001b[0;32m--> 328\u001b[0;31m             \u001b[0mself\u001b[0m\u001b[0;34m.\u001b[0m\u001b[0mcheck_type_forward\u001b[0m\u001b[0;34m(\u001b[0m\u001b[0min_type\u001b[0m\u001b[0;34m)\u001b[0m\u001b[0;34m\u001b[0m\u001b[0m\n\u001b[0m\u001b[1;32m    329\u001b[0m \u001b[0;34m\u001b[0m\u001b[0m\n\u001b[1;32m    330\u001b[0m     \u001b[0;32mdef\u001b[0m \u001b[0mcheck_type_forward\u001b[0m\u001b[0;34m(\u001b[0m\u001b[0mself\u001b[0m\u001b[0;34m,\u001b[0m \u001b[0min_types\u001b[0m\u001b[0;34m)\u001b[0m\u001b[0;34m:\u001b[0m\u001b[0;34m\u001b[0m\u001b[0m\n",
            "\u001b[0;32m/usr/local/lib/python3.6/dist-packages/chainer/function.py\u001b[0m in \u001b[0;36mcheck_type_forward\u001b[0;34m(self, in_types)\u001b[0m\n\u001b[1;32m    128\u001b[0m \u001b[0;34m\u001b[0m\u001b[0m\n\u001b[1;32m    129\u001b[0m     \u001b[0;32mdef\u001b[0m \u001b[0mcheck_type_forward\u001b[0m\u001b[0;34m(\u001b[0m\u001b[0mself\u001b[0m\u001b[0;34m,\u001b[0m \u001b[0min_types\u001b[0m\u001b[0;34m)\u001b[0m\u001b[0;34m:\u001b[0m\u001b[0;34m\u001b[0m\u001b[0m\n\u001b[0;32m--> 130\u001b[0;31m         \u001b[0mself\u001b[0m\u001b[0;34m.\u001b[0m\u001b[0m_function\u001b[0m\u001b[0;34m.\u001b[0m\u001b[0mcheck_type_forward\u001b[0m\u001b[0;34m(\u001b[0m\u001b[0min_types\u001b[0m\u001b[0;34m)\u001b[0m\u001b[0;34m\u001b[0m\u001b[0m\n\u001b[0m\u001b[1;32m    131\u001b[0m \u001b[0;34m\u001b[0m\u001b[0m\n\u001b[1;32m    132\u001b[0m     \u001b[0;32mdef\u001b[0m \u001b[0mforward\u001b[0m\u001b[0;34m(\u001b[0m\u001b[0mself\u001b[0m\u001b[0;34m,\u001b[0m \u001b[0minputs\u001b[0m\u001b[0;34m)\u001b[0m\u001b[0;34m:\u001b[0m\u001b[0;34m\u001b[0m\u001b[0m\n",
            "\u001b[0;32m/usr/local/lib/python3.6/dist-packages/chainer/functions/loss/softmax_cross_entropy.py\u001b[0m in \u001b[0;36mcheck_type_forward\u001b[0;34m(self, in_types)\u001b[0m\n\u001b[1;32m     76\u001b[0m \u001b[0;34m\u001b[0m\u001b[0m\n\u001b[1;32m     77\u001b[0m             \u001b[0mx_type\u001b[0m\u001b[0;34m.\u001b[0m\u001b[0mshape\u001b[0m\u001b[0;34m[\u001b[0m\u001b[0;36m0\u001b[0m\u001b[0;34m]\u001b[0m \u001b[0;34m==\u001b[0m \u001b[0mt_type\u001b[0m\u001b[0;34m.\u001b[0m\u001b[0mshape\u001b[0m\u001b[0;34m[\u001b[0m\u001b[0;36m0\u001b[0m\u001b[0;34m]\u001b[0m\u001b[0;34m,\u001b[0m\u001b[0;34m\u001b[0m\u001b[0m\n\u001b[0;32m---> 78\u001b[0;31m             \u001b[0mx_type\u001b[0m\u001b[0;34m.\u001b[0m\u001b[0mshape\u001b[0m\u001b[0;34m[\u001b[0m\u001b[0;36m2\u001b[0m\u001b[0;34m:\u001b[0m\u001b[0;34m]\u001b[0m \u001b[0;34m==\u001b[0m \u001b[0mt_type\u001b[0m\u001b[0;34m.\u001b[0m\u001b[0mshape\u001b[0m\u001b[0;34m[\u001b[0m\u001b[0;36m1\u001b[0m\u001b[0;34m:\u001b[0m\u001b[0;34m]\u001b[0m\u001b[0;34m,\u001b[0m\u001b[0;34m\u001b[0m\u001b[0m\n\u001b[0m\u001b[1;32m     79\u001b[0m         )\n\u001b[1;32m     80\u001b[0m \u001b[0;34m\u001b[0m\u001b[0m\n",
            "\u001b[0;32m/usr/local/lib/python3.6/dist-packages/chainer/utils/type_check.py\u001b[0m in \u001b[0;36mexpect\u001b[0;34m(*bool_exprs)\u001b[0m\n\u001b[1;32m    522\u001b[0m         \u001b[0;32mfor\u001b[0m \u001b[0mexpr\u001b[0m \u001b[0;32min\u001b[0m \u001b[0mbool_exprs\u001b[0m\u001b[0;34m:\u001b[0m\u001b[0;34m\u001b[0m\u001b[0m\n\u001b[1;32m    523\u001b[0m             \u001b[0;32massert\u001b[0m \u001b[0misinstance\u001b[0m\u001b[0;34m(\u001b[0m\u001b[0mexpr\u001b[0m\u001b[0;34m,\u001b[0m \u001b[0mTestable\u001b[0m\u001b[0;34m)\u001b[0m\u001b[0;34m\u001b[0m\u001b[0m\n\u001b[0;32m--> 524\u001b[0;31m             \u001b[0mexpr\u001b[0m\u001b[0;34m.\u001b[0m\u001b[0mexpect\u001b[0m\u001b[0;34m(\u001b[0m\u001b[0;34m)\u001b[0m\u001b[0;34m\u001b[0m\u001b[0m\n\u001b[0m\u001b[1;32m    525\u001b[0m \u001b[0;34m\u001b[0m\u001b[0m\n\u001b[1;32m    526\u001b[0m \u001b[0;34m\u001b[0m\u001b[0m\n",
            "\u001b[0;32m/usr/local/lib/python3.6/dist-packages/chainer/utils/type_check.py\u001b[0m in \u001b[0;36mexpect\u001b[0;34m(self)\u001b[0m\n\u001b[1;32m    480\u001b[0m             raise InvalidType(\n\u001b[1;32m    481\u001b[0m                 \u001b[0;34m'{0} {1} {2}'\u001b[0m\u001b[0;34m.\u001b[0m\u001b[0mformat\u001b[0m\u001b[0;34m(\u001b[0m\u001b[0mself\u001b[0m\u001b[0;34m.\u001b[0m\u001b[0mlhs\u001b[0m\u001b[0;34m,\u001b[0m \u001b[0mself\u001b[0m\u001b[0;34m.\u001b[0m\u001b[0mexp\u001b[0m\u001b[0;34m,\u001b[0m \u001b[0mself\u001b[0m\u001b[0;34m.\u001b[0m\u001b[0mrhs\u001b[0m\u001b[0;34m)\u001b[0m\u001b[0;34m,\u001b[0m\u001b[0;34m\u001b[0m\u001b[0m\n\u001b[0;32m--> 482\u001b[0;31m                 '{0} {1} {2}'.format(left, self.inv, right))\n\u001b[0m\u001b[1;32m    483\u001b[0m \u001b[0;34m\u001b[0m\u001b[0m\n\u001b[1;32m    484\u001b[0m \u001b[0;34m\u001b[0m\u001b[0m\n",
            "\u001b[0;31mInvalidType\u001b[0m: \nInvalid operation is performed in: SoftmaxCrossEntropy (Forward)\n\nExpect: in_types[1].ndim == in_types[0].ndim - 1\nActual: 1 != 0"
          ]
        }
      ]
    },
    {
      "metadata": {
        "id": "M0IecsTTwL0u",
        "colab_type": "code",
        "colab": {
          "base_uri": "https://localhost:8080/",
          "height": 172
        },
        "outputId": "94912518-0f27-4bc6-e6a4-0fff10d2a8d4"
      },
      "cell_type": "code",
      "source": [
        "json_cont"
      ],
      "execution_count": 0,
      "outputs": [
        {
          "output_type": "error",
          "ename": "NameError",
          "evalue": "ignored",
          "traceback": [
            "\u001b[0;31m---------------------------------------------------------------------------\u001b[0m",
            "\u001b[0;31mNameError\u001b[0m                                 Traceback (most recent call last)",
            "\u001b[0;32m<ipython-input-1-278e3759c8d5>\u001b[0m in \u001b[0;36m<module>\u001b[0;34m()\u001b[0m\n\u001b[0;32m----> 1\u001b[0;31m \u001b[0mjson_cont\u001b[0m\u001b[0;34m\u001b[0m\u001b[0m\n\u001b[0m",
            "\u001b[0;31mNameError\u001b[0m: name 'json_cont' is not defined"
          ]
        }
      ]
    },
    {
      "metadata": {
        "id": "ES1vN_tUwMF1",
        "colab_type": "text"
      },
      "cell_type": "markdown",
      "source": [
        ""
      ]
    },
    {
      "metadata": {
        "id": "FVQyfWV2zCo7",
        "colab_type": "code",
        "colab": {
          "base_uri": "https://localhost:8080/",
          "height": 244
        },
        "outputId": "1db7e6b5-6556-4791-8300-9f60e8015eb2"
      },
      "cell_type": "code",
      "source": [
        "a = [[[1,2,3],[4,5,6]],[[3,2,1],[6,5,4]]]\n",
        "v_a = Variable(np.array(a, dtype=np.int32))\n",
        "print(v_a.shape)\n",
        "v_c = F.concat([v_a[0], v_a[1]], axis=1)\n",
        "v_c = F.reshape(v_c, (1, v_c.shape[0],  v_c.shape[1]))\n",
        "print(v_c)"
      ],
      "execution_count": 0,
      "outputs": [
        {
          "output_type": "error",
          "ename": "NameError",
          "evalue": "ignored",
          "traceback": [
            "\u001b[0;31m---------------------------------------------------------------------------\u001b[0m",
            "\u001b[0;31mNameError\u001b[0m                                 Traceback (most recent call last)",
            "\u001b[0;32m<ipython-input-2-3fa4c8a20464>\u001b[0m in \u001b[0;36m<module>\u001b[0;34m()\u001b[0m\n\u001b[1;32m      1\u001b[0m \u001b[0ma\u001b[0m \u001b[0;34m=\u001b[0m \u001b[0;34m[\u001b[0m\u001b[0;34m[\u001b[0m\u001b[0;34m[\u001b[0m\u001b[0;36m1\u001b[0m\u001b[0;34m,\u001b[0m\u001b[0;36m2\u001b[0m\u001b[0;34m,\u001b[0m\u001b[0;36m3\u001b[0m\u001b[0;34m]\u001b[0m\u001b[0;34m,\u001b[0m\u001b[0;34m[\u001b[0m\u001b[0;36m4\u001b[0m\u001b[0;34m,\u001b[0m\u001b[0;36m5\u001b[0m\u001b[0;34m,\u001b[0m\u001b[0;36m6\u001b[0m\u001b[0;34m]\u001b[0m\u001b[0;34m]\u001b[0m\u001b[0;34m,\u001b[0m\u001b[0;34m[\u001b[0m\u001b[0;34m[\u001b[0m\u001b[0;36m3\u001b[0m\u001b[0;34m,\u001b[0m\u001b[0;36m2\u001b[0m\u001b[0;34m,\u001b[0m\u001b[0;36m1\u001b[0m\u001b[0;34m]\u001b[0m\u001b[0;34m,\u001b[0m\u001b[0;34m[\u001b[0m\u001b[0;36m6\u001b[0m\u001b[0;34m,\u001b[0m\u001b[0;36m5\u001b[0m\u001b[0;34m,\u001b[0m\u001b[0;36m4\u001b[0m\u001b[0;34m]\u001b[0m\u001b[0;34m]\u001b[0m\u001b[0;34m]\u001b[0m\u001b[0;34m\u001b[0m\u001b[0m\n\u001b[0;32m----> 2\u001b[0;31m \u001b[0mv_a\u001b[0m \u001b[0;34m=\u001b[0m \u001b[0mVariable\u001b[0m\u001b[0;34m(\u001b[0m\u001b[0mnp\u001b[0m\u001b[0;34m.\u001b[0m\u001b[0marray\u001b[0m\u001b[0;34m(\u001b[0m\u001b[0ma\u001b[0m\u001b[0;34m,\u001b[0m \u001b[0mdtype\u001b[0m\u001b[0;34m=\u001b[0m\u001b[0mnp\u001b[0m\u001b[0;34m.\u001b[0m\u001b[0mint32\u001b[0m\u001b[0;34m)\u001b[0m\u001b[0;34m)\u001b[0m\u001b[0;34m\u001b[0m\u001b[0m\n\u001b[0m\u001b[1;32m      3\u001b[0m \u001b[0mprint\u001b[0m\u001b[0;34m(\u001b[0m\u001b[0mv_a\u001b[0m\u001b[0;34m.\u001b[0m\u001b[0mshape\u001b[0m\u001b[0;34m)\u001b[0m\u001b[0;34m\u001b[0m\u001b[0m\n\u001b[1;32m      4\u001b[0m \u001b[0mv_c\u001b[0m \u001b[0;34m=\u001b[0m \u001b[0mF\u001b[0m\u001b[0;34m.\u001b[0m\u001b[0mconcat\u001b[0m\u001b[0;34m(\u001b[0m\u001b[0;34m[\u001b[0m\u001b[0mv_a\u001b[0m\u001b[0;34m[\u001b[0m\u001b[0;36m0\u001b[0m\u001b[0;34m]\u001b[0m\u001b[0;34m,\u001b[0m \u001b[0mv_a\u001b[0m\u001b[0;34m[\u001b[0m\u001b[0;36m1\u001b[0m\u001b[0;34m]\u001b[0m\u001b[0;34m]\u001b[0m\u001b[0;34m,\u001b[0m \u001b[0maxis\u001b[0m\u001b[0;34m=\u001b[0m\u001b[0;36m1\u001b[0m\u001b[0;34m)\u001b[0m\u001b[0;34m\u001b[0m\u001b[0m\n\u001b[1;32m      5\u001b[0m \u001b[0mv_c\u001b[0m \u001b[0;34m=\u001b[0m \u001b[0mF\u001b[0m\u001b[0;34m.\u001b[0m\u001b[0mreshape\u001b[0m\u001b[0;34m(\u001b[0m\u001b[0mv_c\u001b[0m\u001b[0;34m,\u001b[0m \u001b[0;34m(\u001b[0m\u001b[0;36m1\u001b[0m\u001b[0;34m,\u001b[0m \u001b[0mv_c\u001b[0m\u001b[0;34m.\u001b[0m\u001b[0mshape\u001b[0m\u001b[0;34m[\u001b[0m\u001b[0;36m0\u001b[0m\u001b[0;34m]\u001b[0m\u001b[0;34m,\u001b[0m  \u001b[0mv_c\u001b[0m\u001b[0;34m.\u001b[0m\u001b[0mshape\u001b[0m\u001b[0;34m[\u001b[0m\u001b[0;36m1\u001b[0m\u001b[0;34m]\u001b[0m\u001b[0;34m)\u001b[0m\u001b[0;34m)\u001b[0m\u001b[0;34m\u001b[0m\u001b[0m\n",
            "\u001b[0;31mNameError\u001b[0m: name 'Variable' is not defined"
          ]
        }
      ]
    },
    {
      "metadata": {
        "id": "RrjAxeZR_5vM",
        "colab_type": "code",
        "colab": {
          "base_uri": "https://localhost:8080/",
          "height": 323
        },
        "outputId": "3ca99c47-0954-444b-a464-bcfbd5845eb8"
      },
      "cell_type": "code",
      "source": [
        "!nvidia-smi"
      ],
      "execution_count": 0,
      "outputs": [
        {
          "output_type": "stream",
          "text": [
            "Thu Aug  9 20:38:32 2018       \r\n",
            "+-----------------------------------------------------------------------------+\r\n",
            "| NVIDIA-SMI 384.111                Driver Version: 384.111                   |\r\n",
            "|-------------------------------+----------------------+----------------------+\r\n",
            "| GPU  Name        Persistence-M| Bus-Id        Disp.A | Volatile Uncorr. ECC |\r\n",
            "| Fan  Temp  Perf  Pwr:Usage/Cap|         Memory-Usage | GPU-Util  Compute M. |\r\n",
            "|===============================+======================+======================|\r\n",
            "|   0  Tesla K80           Off  | 00000000:00:04.0 Off |                    0 |\r\n",
            "| N/A   31C    P8    30W / 149W |      0MiB / 11439MiB |      0%      Default |\r\n",
            "+-------------------------------+----------------------+----------------------+\r\n",
            "                                                                               \r\n",
            "+-----------------------------------------------------------------------------+\r\n",
            "| Processes:                                                       GPU Memory |\r\n",
            "|  GPU       PID   Type   Process name                             Usage      |\r\n",
            "|=============================================================================|\r\n",
            "|  No running processes found                                                 |\r\n",
            "+-----------------------------------------------------------------------------+\r\n"
          ],
          "name": "stdout"
        }
      ]
    },
    {
      "metadata": {
        "id": "o9cveclcJJkI",
        "colab_type": "code",
        "colab": {
          "base_uri": "https://localhost:8080/",
          "height": 129
        },
        "outputId": "480c1f03-fc22-4c42-99b7-d15b225119f5"
      },
      "cell_type": "code",
      "source": [
        "!ps aux | grep "
      ],
      "execution_count": 0,
      "outputs": [
        {
          "output_type": "stream",
          "text": [
            "root        77  0.0  0.4 185472 60308 ?        Sl   06:34   0:08 /usr/bin/python2 /usr/local/bin/jupyter-notebook -y --no-browser --log-level=DEBUG --debug --NotebookApp.allow_origin=\"*\" --NotebookApp.log_format=\"%(message)s\" --NotebookApp.disable_check_xsrf=True --NotebookApp.token= --Session.key=\"\" --Session.keyfile=\"\" --ContentsManager.untitled_directory=\"Untitled Folder\" --ContentsManager.untitled_file=\"Untitled File\" --ContentsManager.untitled_notebook=\"Untitled Notebook\" --KernelManager.autorestart=True --MultiKernelManager.default_kernel_name=\"python2\" --ip=\"172.28.0.2\" --port=9000 --port-retries=0 --notebook-dir=\"/content\" --NotebookApp.base_url=/tun/m/gpu-bgnwrsit2fuk/\r\n",
            "root        85  2.0 13.8 40983856 1850672 ?    Ssl  06:35   4:17 /usr/bin/python3 -m ipykernel_launcher -f /content/.local/share/jupyter/runtime/kernel-0c800f45-46e8-4ae5-a5d9-d19ee9b79f9b.json\r\n",
            "root      4577 98.0  0.0  33960  4916 pts/0    Ss+  10:05   0:00 /bin/sh -c ps aux | grep python\r\n",
            "root      4579  0.0  0.0  38200  5792 pts/0    S+   10:05   0:00 grep python\r\n"
          ],
          "name": "stdout"
        }
      ]
    },
    {
      "metadata": {
        "id": "IuBnT3FtJPej",
        "colab_type": "code",
        "colab": {}
      },
      "cell_type": "code",
      "source": [
        ""
      ],
      "execution_count": 0,
      "outputs": []
    }
  ]
}